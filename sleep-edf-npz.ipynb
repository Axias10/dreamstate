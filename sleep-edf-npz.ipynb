{
 "cells": [
  {
   "cell_type": "markdown",
   "id": "0dce620a",
   "metadata": {},
   "source": [
    "This notebook is a tutorial to show how to manage the preprocessed data for sleep stage classification"
   ]
  },
  {
   "cell_type": "code",
   "execution_count": 2,
   "id": "a42ded28",
   "metadata": {},
   "outputs": [],
   "source": [
    "import numpy as np \n",
    "import gzip as gz \n",
    "from tqdm.notebook import tqdm\n",
    "import torch as th \n",
    "import pickle"
   ]
  },
  {
   "cell_type": "code",
   "execution_count": 3,
   "id": "30aa96ee",
   "metadata": {},
   "outputs": [],
   "source": [
    "datad=\"5-cassette\""
   ]
  },
  {
   "cell_type": "code",
   "execution_count": 4,
   "id": "e6f1c724",
   "metadata": {},
   "outputs": [
    {
     "data": {
      "text/plain": [
       "'5-cassette'"
      ]
     },
     "execution_count": 4,
     "metadata": {},
     "output_type": "execute_result"
    }
   ],
   "source": [
    "datad"
   ]
  },
  {
   "cell_type": "code",
   "execution_count": 5,
   "id": "ed5a7ea3",
   "metadata": {},
   "outputs": [],
   "source": [
    "fp = gz.open(datad+'/SC4671G0.npz.gz','rb')\n",
    "data = np.load(fp,allow_pickle=True) \n"
   ]
  },
  {
   "cell_type": "code",
   "execution_count": 6,
   "id": "0f1985af",
   "metadata": {},
   "outputs": [
    {
     "data": {
      "text/plain": [
       "['x', 'y', 'fs', 'ch_label', 'header_raw', 'header_annotation']"
      ]
     },
     "execution_count": 6,
     "metadata": {},
     "output_type": "execute_result"
    }
   ],
   "source": [
    "# To see what it contains \n",
    "data.files"
   ]
  },
  {
   "cell_type": "code",
   "execution_count": 7,
   "id": "8df10dd0",
   "metadata": {},
   "outputs": [
    {
     "data": {
      "text/plain": [
       "array({'local_subject_id': 'X F X Female_87yr', 'local_recording_id': 'Startdate 07-AUG-1991 X X X', 'date_time': '2091-08-07 16:00:00', 'EDF+': False, 'contiguous': True, 'n_records': 2780, 'record_length': 30.0, 'n_channels': 7, 'label': ['EEG Fpz-Cz', 'EEG Pz-Oz', 'EOG horizontal', 'Resp oro-nasal', 'EMG submental', 'Temp rectal', 'Event marker'], 'transducer_type': ['Ag-AgCl electrodes', 'Ag-AgCl electrodes', 'Ag-AgCl electrodes', 'Oral-nasal thermistors', 'Ag-AgCl electrodes', 'Rectal thermistor', 'Marker button'], 'units': ['uV', 'uV', 'uV', '', 'uV', '', ''], 'physical_min': array([ -207.,  -179., -1055., -2048.,    -5.,     0., -2047.]), 'physical_max': array([ 207.,  179., 1055., 2047.,    5.,   30., 2048.]), 'digital_min': array([ -2048.,  -2048.,  -2048.,  -2048.,  -2500., -32768.,  -2047.]), 'digital_max': array([ 2047.,  2047.,  2047.,  2047.,  2500., 32767.,  2048.]), 'prefiltering': ['HP:0.5Hz LP:100Hz [enhanced cassette BW]', 'HP:0.5Hz LP:100Hz [enhanced cassette BW]', 'HP:0.5Hz LP:100Hz [enhanced cassette BW]', 'HP:0.03Hz LP:0.9Hz', 'HP:16Hz Rectification LP:0.7Hz', '', 'Hold during 2 seconds'], 'n_samples_per_record': [3000, 3000, 3000, 30, 30, 30, 30]},\n",
       "      dtype=object)"
      ]
     },
     "execution_count": 7,
     "metadata": {},
     "output_type": "execute_result"
    }
   ],
   "source": [
    "data['header_raw']"
   ]
  },
  {
   "cell_type": "code",
   "execution_count": 51,
   "id": "a2e28263",
   "metadata": {},
   "outputs": [],
   "source": [
    "# The data are stored in 'x' and 'y'\n",
    "x = data['x']\n",
    "y = data['y']"
   ]
  },
  {
   "cell_type": "code",
   "execution_count": 52,
   "id": "c93d7c1d",
   "metadata": {},
   "outputs": [
    {
     "name": "stdout",
     "output_type": "stream",
     "text": [
      "(1968, 600, 4) (1968,)\n"
     ]
    }
   ],
   "source": [
    "print(x.shape, y.shape)"
   ]
  },
  {
   "cell_type": "code",
   "execution_count": 53,
   "id": "c8228ef7",
   "metadata": {},
   "outputs": [
    {
     "data": {
      "text/plain": [
       "array({'local_subject_id': 'X F X Female_87yr', 'local_recording_id': 'Startdate 07-AUG-1991 X X X', 'date_time': '2091-08-07 16:00:00', 'EDF+': False, 'contiguous': True, 'n_records': 2780, 'record_length': 30.0, 'n_channels': 7, 'label': ['EEG Fpz-Cz', 'EEG Pz-Oz', 'EOG horizontal', 'Resp oro-nasal', 'EMG submental', 'Temp rectal', 'Event marker'], 'transducer_type': ['Ag-AgCl electrodes', 'Ag-AgCl electrodes', 'Ag-AgCl electrodes', 'Oral-nasal thermistors', 'Ag-AgCl electrodes', 'Rectal thermistor', 'Marker button'], 'units': ['uV', 'uV', 'uV', '', 'uV', '', ''], 'physical_min': array([ -207.,  -179., -1055., -2048.,    -5.,     0., -2047.]), 'physical_max': array([ 207.,  179., 1055., 2047.,    5.,   30., 2048.]), 'digital_min': array([ -2048.,  -2048.,  -2048.,  -2048.,  -2500., -32768.,  -2047.]), 'digital_max': array([ 2047.,  2047.,  2047.,  2047.,  2500., 32767.,  2048.]), 'prefiltering': ['HP:0.5Hz LP:100Hz [enhanced cassette BW]', 'HP:0.5Hz LP:100Hz [enhanced cassette BW]', 'HP:0.5Hz LP:100Hz [enhanced cassette BW]', 'HP:0.03Hz LP:0.9Hz', 'HP:16Hz Rectification LP:0.7Hz', '', 'Hold during 2 seconds'], 'n_samples_per_record': [3000, 3000, 3000, 30, 30, 30, 30]},\n",
       "      dtype=object)"
      ]
     },
     "execution_count": 53,
     "metadata": {},
     "output_type": "execute_result"
    }
   ],
   "source": [
    "# The header is the copy of the original one \n",
    "data[\"header_raw\"]\n"
   ]
  },
  {
   "cell_type": "code",
   "execution_count": 21,
   "id": "3ae92ecd",
   "metadata": {},
   "outputs": [
    {
     "name": "stdout",
     "output_type": "stream",
     "text": [
      "['5-cassette\\\\SC4001E0.npz.gz', '5-cassette\\\\SC4002E0.npz.gz', '5-cassette\\\\SC4011E0.npz.gz', '5-cassette\\\\SC4012E0.npz.gz', '5-cassette\\\\SC4021E0.npz.gz', '5-cassette\\\\SC4022E0.npz.gz', '5-cassette\\\\SC4031E0.npz.gz', '5-cassette\\\\SC4032E0.npz.gz', '5-cassette\\\\SC4041E0.npz.gz', '5-cassette\\\\SC4042E0.npz.gz']\n"
     ]
    }
   ],
   "source": [
    "# The four channels in x are 'EEG Fpz-Cz', 'EEG Pz-Oz', 'EOG horizontal', 'EMG submental'\n",
    "# You can take more if you modify the preparation script and rerun it. \n",
    "# To get a list all the files:\n",
    "import os \n",
    "import glob\n",
    "fnames = glob.glob(os.path.join(datad, \"*npz.gz\"))\n",
    "print(fnames[:10]) # print the first 10"
   ]
  },
  {
   "cell_type": "code",
   "execution_count": 25,
   "id": "53d3a524",
   "metadata": {},
   "outputs": [],
   "source": [
    "fnames.remove('5-cassette\\\\SC4001E0.npz.gz')"
   ]
  },
  {
   "cell_type": "code",
   "execution_count": null,
   "id": "178a2c6f",
   "metadata": {},
   "outputs": [],
   "source": []
  },
  {
   "cell_type": "code",
   "execution_count": 36,
   "id": "cb1ad094",
   "metadata": {},
   "outputs": [
    {
     "data": {
      "text/plain": [
       "(152,)"
      ]
     },
     "execution_count": 36,
     "metadata": {},
     "output_type": "execute_result"
    }
   ],
   "source": [
    "np.shape(fnames)"
   ]
  },
  {
   "cell_type": "code",
   "execution_count": 27,
   "id": "168851c9",
   "metadata": {},
   "outputs": [],
   "source": [
    "from tqdm import tqdm"
   ]
  },
  {
   "cell_type": "code",
   "execution_count": 37,
   "id": "432b2ed5",
   "metadata": {},
   "outputs": [],
   "source": [
    "fp = gz.open(fn,'rb')\n",
    "data = np.load(fp,allow_pickle=True) # for now, don't care about headers\n",
    "x = data['x'][:,:,2] # Take only the EOG\n",
    "y = data['y'] # Take the labels \n",
    "# data['x'][:,:,0] ca c'est le EEG Fpz-Cz\n",
    "# data['x'][:,:,1] ca c'est le EEG Pz-Oz\n"
   ]
  },
  {
   "cell_type": "code",
   "execution_count": 38,
   "id": "528a6568",
   "metadata": {},
   "outputs": [
    {
     "data": {
      "text/plain": [
       "array(['EEG Fpz-Cz', 'EEG Pz-Oz', 'EOG horizontal', 'EMG submental'],\n",
       "      dtype='<U14')"
      ]
     },
     "execution_count": 38,
     "metadata": {},
     "output_type": "execute_result"
    }
   ],
   "source": [
    "data['ch_label']"
   ]
  },
  {
   "cell_type": "code",
   "execution_count": 39,
   "id": "76b56370",
   "metadata": {},
   "outputs": [
    {
     "name": "stdout",
     "output_type": "stream",
     "text": [
      "['x', 'y', 'fs', 'ch_label', 'header_raw', 'header_annotation']\n"
     ]
    }
   ],
   "source": [
    "print(data.files)"
   ]
  },
  {
   "cell_type": "code",
   "execution_count": 40,
   "id": "ef4447ef",
   "metadata": {},
   "outputs": [
    {
     "data": {
      "text/plain": [
       "array({'local_subject_id': 'X F X Female_56yr', 'local_recording_id': 'Startdate 26-SEP-1991 X X X', 'date_time': '2091-09-26 15:00:00', 'EDF+': True, 'contiguous': True, 'n_records': 1, 'record_length': 0.0, 'n_channels': 1, 'label': ['EDF Annotations'], 'transducer_type': [''], 'units': [''], 'physical_min': array([0.]), 'physical_max': array([1.]), 'digital_min': array([-32768.]), 'digital_max': array([32767.]), 'prefiltering': [''], 'n_samples_per_record': [2220]},\n",
       "      dtype=object)"
      ]
     },
     "execution_count": 40,
     "metadata": {},
     "output_type": "execute_result"
    }
   ],
   "source": [
    "data['header_annotation']"
   ]
  },
  {
   "cell_type": "code",
   "execution_count": 41,
   "id": "220193b4",
   "metadata": {
    "scrolled": false
   },
   "outputs": [
    {
     "name": "stderr",
     "output_type": "stream",
     "text": [
      "100%|██████████| 152/152 [01:03<00:00,  2.38it/s]\n"
     ]
    }
   ],
   "source": [
    "devpart = 10\n",
    "xtrain , xvalid = None , None \n",
    "ytrain , yvalid = None , None \n",
    "# If you take all the data you dhould end with \n",
    "# \n",
    "for fn in tqdm(fnames): \n",
    "    fp = gz.open(fn,'rb')\n",
    "    data = np.load(fp,allow_pickle=False) # for now, don't care about headers\n",
    "    x = data['x'][:,:,2] # Take only the EOG\n",
    "    y = data['y'] # Take the labels \n",
    "    idx = np.arange(x.shape[0])\n",
    "    np.random.shuffle(idx)\n",
    "    devlim = x.shape[0]//devpart\n",
    "    devpart = 10\n",
    "    idx = np.arange(x.shape[0])\n",
    "    np.random.shuffle(idx)\n",
    "    devlim = x.shape[0]//devpart\n",
    "    if xtrain is None: \n",
    "        xtrain = np.zeros((1,x.shape[1]))\n",
    "        xvalid = np.zeros((1,x.shape[1]))\n",
    "        ytrain , yvalid = np.zeros(1) , np.zeros(1)\n",
    "    xvalid = np.concatenate((xvalid,x[idx[:devlim]]), axis=0)\n",
    "    yvalid = np.concatenate((yvalid,y[idx[:devlim]]), axis=0)\n",
    "    xtrain = np.concatenate((xtrain,x[idx[devlim:]]), axis=0)\n",
    "    ytrain = np.concatenate((ytrain,y[idx[devlim:]]), axis=0)\n",
    "    del x,y"
   ]
  },
  {
   "cell_type": "code",
   "execution_count": 42,
   "id": "e124c7fe",
   "metadata": {},
   "outputs": [
    {
     "name": "stdout",
     "output_type": "stream",
     "text": [
      "(175239, 600) (19401, 600)\n",
      "(175239,) (19401,)\n"
     ]
    }
   ],
   "source": [
    "print(xtrain.shape, xvalid.shape)\n",
    "print(ytrain.shape, yvalid.shape)\n"
   ]
  },
  {
   "cell_type": "code",
   "execution_count": 22,
   "id": "1aa3fb53",
   "metadata": {
    "scrolled": true
   },
   "outputs": [
    {
     "name": "stdout",
     "output_type": "stream",
     "text": [
      "(175996, 600) (19485, 600)\n",
      "(175996,) (19485,)\n"
     ]
    }
   ],
   "source": [
    "print(xtrain.shape, xvalid.shape)\n",
    "print(ytrain.shape, yvalid.shape)\n"
   ]
  },
  {
   "cell_type": "code",
   "execution_count": 43,
   "id": "b338cddb",
   "metadata": {},
   "outputs": [
    {
     "name": "stdout",
     "output_type": "stream",
     "text": [
      "(175238, 600) (19400, 600)\n",
      "(175238,) (19400,)\n"
     ]
    }
   ],
   "source": [
    "# clean the first dummy example \n",
    "xtrain , xvalid = xtrain[1:] , xvalid[1:] \n",
    "ytrain , yvalid = ytrain[1:] , yvalid[1:] \n",
    "print(xtrain.shape, xvalid.shape)\n",
    "print(ytrain.shape, yvalid.shape)\n"
   ]
  },
  {
   "cell_type": "code",
   "execution_count": 44,
   "id": "beb29cfc",
   "metadata": {},
   "outputs": [],
   "source": [
    "# In Torch version \n",
    "xtrain, xvalid = th.FloatTensor(xtrain), th.FloatTensor(xvalid)\n",
    "ytrain, yvalid = th.IntTensor(ytrain), th.IntTensor(yvalid)"
   ]
  },
  {
   "cell_type": "code",
   "execution_count": 45,
   "id": "7118d956",
   "metadata": {},
   "outputs": [],
   "source": [
    "outf=\"./cassette-th-data_rem.pck\"\n",
    "fp = open(outf,\"wb\")\n",
    "pickle.dump((xtrain , xvalid , ytrain , yvalid), fp)"
   ]
  },
  {
   "cell_type": "code",
   "execution_count": 46,
   "id": "dff0ccc6",
   "metadata": {},
   "outputs": [],
   "source": [
    "import matplotlib.pyplot as plt\n"
   ]
  },
  {
   "cell_type": "code",
   "execution_count": 47,
   "id": "29f7552f",
   "metadata": {},
   "outputs": [
    {
     "name": "stdout",
     "output_type": "stream",
     "text": [
      "tensor(3, dtype=torch.int32)\n"
     ]
    },
    {
     "data": {
      "image/png": "[encoded data removed]",
      "text/plain": [
       "<Figure size 640x480 with 1 Axes>"
      ]
     },
     "metadata": {},
     "output_type": "display_data"
    }
   ],
   "source": [
    "plt.plot(xtrain[2])\n",
    "print(ytrain[2])"
   ]
  },
  {
   "cell_type": "code",
   "execution_count": 48,
   "id": "c1953d6a",
   "metadata": {},
   "outputs": [
    {
     "data": {
      "text/plain": [
       "tensor([0, 4, 3, 2, 3, 4, 3, 3, 4, 3, 3, 4, 2, 4, 3, 0, 4, 2, 4, 2, 2, 0, 3, 2,\n",
       "        3, 2, 0, 3, 4, 4, 3, 2, 2, 3, 1, 0, 4, 4, 4, 3, 2, 2, 3, 3, 4, 2, 4, 2,\n",
       "        3, 2, 4, 2, 4, 3, 3, 3, 4, 2, 4, 0, 4, 4, 0, 2, 2, 3, 2, 2, 3, 4, 2, 0,\n",
       "        2, 4, 0, 4, 2, 4, 4, 3, 2, 0, 3, 2, 2, 4, 3, 3, 3, 2, 2, 4, 2, 2, 4, 3,\n",
       "        2, 4, 4, 4, 2, 4, 2, 0, 4, 3, 2, 2, 3, 4, 2, 0, 0, 4, 2, 2, 2, 4, 2, 3,\n",
       "        2, 4, 3, 2, 3, 2, 3, 0, 2, 3, 4, 0, 1, 0, 1, 3, 3, 3, 3, 3, 0, 3, 2, 3,\n",
       "        3, 3, 0, 4, 4, 3, 3, 2, 0, 4, 4, 3, 2, 3, 4, 3, 2, 0, 2, 3, 1, 0, 3, 1,\n",
       "        3, 2, 0, 2, 3, 0, 2, 4, 2, 3, 2, 2, 0, 2, 1, 0, 2, 3, 2, 0, 2, 0, 3, 4,\n",
       "        4, 2, 4, 1, 2, 4, 2, 0], dtype=torch.int32)"
      ]
     },
     "execution_count": 48,
     "metadata": {},
     "output_type": "execute_result"
    }
   ],
   "source": [
    "ytrain[:200]"
   ]
  },
  {
   "cell_type": "code",
   "execution_count": 27,
   "id": "e0dce115",
   "metadata": {},
   "outputs": [
    {
     "name": "stderr",
     "output_type": "stream",
     "text": [
      "'ls' n'est pas reconnu en tant que commande interne\n",
      "ou externe, un programme ex�cutable ou un fichier de commandes.\n"
     ]
    }
   ],
   "source": [
    "!ls -lh ./cassette-th-data.pck"
   ]
  },
  {
   "cell_type": "code",
   "execution_count": null,
   "id": "8262aa6b",
   "metadata": {},
   "outputs": [],
   "source": []
  }
 ],
 "metadata": {
  "kernelspec": {
   "display_name": "Python 3 (ipykernel)",
   "language": "python",
   "name": "python3"
  },
  "language_info": {
   "codemirror_mode": {
    "name": "ipython",
    "version": 3
   },
   "file_extension": ".py",
   "mimetype": "text/x-python",
   "name": "python",
   "nbconvert_exporter": "python",
   "pygments_lexer": "ipython3",
   "version": "3.11.9"
  },
  "toc": {
   "base_numbering": 1,
   "nav_menu": {},
   "number_sections": true,
   "sideBar": true,
   "skip_h1_title": false,
   "title_cell": "Table of Contents",
   "title_sidebar": "Contents",
   "toc_cell": false,
   "toc_position": {},
   "toc_section_display": true,
   "toc_window_display": false
  }
 },
 "nbformat": 4,
 "nbformat_minor": 5
}
